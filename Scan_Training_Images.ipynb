{
 "cells": [
  {
   "cell_type": "code",
   "execution_count": null,
   "metadata": {},
   "outputs": [],
   "source": [
    "DESCRIPTION = '''\n",
    "This script makes the user to collect different category training images\n",
    "Press 'a' to start/pause the image collecting process.\n",
    "Press 'q' to quit.\n",
    "'''"
   ]
  },
  {
   "cell_type": "code",
   "execution_count": 7,
   "metadata": {},
   "outputs": [],
   "source": [
    "#Global Variables\n",
    "label_name = \"rock\"\n",
    "num_samples = 200"
   ]
  },
  {
   "cell_type": "code",
   "execution_count": 10,
   "metadata": {},
   "outputs": [
    {
     "name": "stdout",
     "output_type": "stream",
     "text": [
      "image_data\\rock directory already exists.\n",
      "All images gathered will be saved along with existing items in this folder\n",
      "\n",
      "0 image(s) saved to image_data\\rock\n"
     ]
    }
   ],
   "source": [
    "import cv2\n",
    "import os\n",
    "import sys\n",
    "\n",
    "IMG_SAVE_PATH = 'image_data'\n",
    "IMG_CLASS_PATH = os.path.join(IMG_SAVE_PATH, label_name)\n",
    "\n",
    "try:\n",
    "    os.mkdir(IMG_SAVE_PATH)\n",
    "except FileExistsError:\n",
    "    pass\n",
    "try:\n",
    "    os.mkdir(IMG_CLASS_PATH)\n",
    "except FileExistsError:\n",
    "    print(\"{} directory already exists.\".format(IMG_CLASS_PATH))\n",
    "    print(\"All images gathered will be saved along with existing items in this folder\")\n",
    "\n",
    "cap = cv2.VideoCapture(0)\n",
    "\n",
    "start = False\n",
    "count = 0\n",
    "\n",
    "while True:\n",
    "    ret, frame = cap.read()\n",
    "    if not ret:\n",
    "        continue\n",
    "    if count == num_samples:\n",
    "        break\n",
    "    cv2.rectangle(frame, (0, 410), (200, 180), (0, 0, 0), 2)\n",
    "    if start:\n",
    "        roi = frame[180:410, 0:200]\n",
    "        save_path = os.path.join(IMG_CLASS_PATH, '{}.jpg'.format(count + 1))\n",
    "        cv2.imwrite(save_path, roi)\n",
    "        count += 1\n",
    "\n",
    "    font = cv2.FONT_HERSHEY_SIMPLEX\n",
    "    cv2.putText(frame, \"Collecting {}\".format(count),\n",
    "            (5, 50), font, 0.7, (255, 255, 255), 2, cv2.LINE_AA)\n",
    "    cv2.imshow(\"Collecting images\", frame)\n",
    "\n",
    "    k = cv2.waitKey(10)\n",
    "    if k == ord('a'):\n",
    "        start = not start\n",
    "    if k == ord('q'):\n",
    "        break\n",
    "\n",
    "print(\"\\n{} image(s) saved to {}\".format(count, IMG_CLASS_PATH))\n",
    "cap.release()\n",
    "cv2.destroyAllWindows()"
   ]
  }
 ],
 "metadata": {
  "kernelspec": {
   "display_name": "Python 3",
   "language": "python",
   "name": "python3"
  },
  "language_info": {
   "codemirror_mode": {
    "name": "ipython",
    "version": 3
   },
   "file_extension": ".py",
   "mimetype": "text/x-python",
   "name": "python",
   "nbconvert_exporter": "python",
   "pygments_lexer": "ipython3",
   "version": "3.5.6"
  }
 },
 "nbformat": 4,
 "nbformat_minor": 4
}
