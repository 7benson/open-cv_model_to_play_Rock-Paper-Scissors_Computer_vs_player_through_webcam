{
 "cells": [
  {
   "cell_type": "code",
   "execution_count": 2,
   "metadata": {},
   "outputs": [],
   "source": [
    "#Global Variables\n",
    "IMAGES_SAVED_PATH = \"image_data\" # Folder to save different CAtegories of images\n",
    "MAPPING_DIC = {\n",
    "    \"rock\":0,\n",
    "    \"paper\":1,\n",
    "    \"scissor\":2,\n",
    "    \"none\":3\n",
    "}\n",
    "NUMBER_OF_CATEGORIES = 4\n",
    "input_shape=(250,250,3)"
   ]
  },
  {
   "cell_type": "code",
   "execution_count": 5,
   "metadata": {},
   "outputs": [],
   "source": [
    "import cv2\n",
    "import os\n",
    "import numpy as np\n",
    "import keras\n",
    "from keras_applications.imagenet_utils import _obtain_input_shape \n",
    "from keras.models import Sequential\n",
    "from keras_squeezenet import SqueezeNet\n",
    "from keras.optimizers import Adam\n",
    "from keras.utils import np_utils\n",
    "from keras.layers import Activation,Convolution2D,Dropout,GlobalAveragePooling2D\n",
    "\n",
    "def mapper(x):\n",
    "    return MAPPING_DIC[x]\n",
    "\n",
    "images_dataset=[]\n",
    "for directory in os.listdir(IMAGES_SAVED_PATH):\n",
    "    path = os.path.join(IMAGES_SAVED_PATH,directory)\n",
    "    if not os.path.isdir(path):\n",
    "        continue\n",
    "    for image in os.listdir(path):\n",
    "        if image.startswith(\".\"): #To bypass hidden files\n",
    "            continue\n",
    "        image_scanned = cv2.imread(os.path.join(path,image))\n",
    "        image_scanned = cv2.cvtColor(image_scanned,cv2.COLOR_BGR2RGB)\n",
    "        image_scanned = cv2.resize(image_scanned,(250,250))\n",
    "        images_dataset.append([image_scanned,directory])\n",
    "\n",
    "data,categories = zip(*images_dataset)\n",
    "categories = list(map(mapper,categories))\n",
    "categories = np_utils.to_categorical(categories)\n",
    "\n",
    "model = Sequential([\n",
    "        SqueezeNet(input_shape=input_shape,include_top=False),\n",
    "        Dropout(0.2),\n",
    "        Convolution2D(NUMBER_OF_CATEGORIES,(1,1),padding=\"same\"),\n",
    "        Activation(\"relu\"),\n",
    "        GlobalAveragePooling2D(),\n",
    "        Activation(\"softmax\")\n",
    "    ])\n",
    "model.compile(optimizer=Adam(lr=0.00005),loss='categorical_crossentropy',metrics=['accuracy'])\n",
    "model.fit(np.array(images_dataset),np.array(categories),epochs=10)\n",
    "model.save(\"RockPaperScissors.h5\")"
   ]
  }
 ],
 "metadata": {
  "kernelspec": {
   "display_name": "Python 3",
   "language": "python",
   "name": "python3"
  },
  "language_info": {
   "codemirror_mode": {
    "name": "ipython",
    "version": 3
   },
   "file_extension": ".py",
   "mimetype": "text/x-python",
   "name": "python",
   "nbconvert_exporter": "python",
   "pygments_lexer": "ipython3",
   "version": "3.5.6"
  }
 },
 "nbformat": 4,
 "nbformat_minor": 4
}
